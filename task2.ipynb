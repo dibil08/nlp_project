{
 "cells": [
  {
   "cell_type": "code",
   "execution_count": 12,
   "metadata": {},
   "outputs": [
    {
     "name": "stderr",
     "output_type": "stream",
     "text": [
      "D:\\miniconda\\envs\\pytorch\\lib\\site-packages\\gdown\\parse_url.py:39: UserWarning: You specified a Google Drive link that is not the correct link to download a file. You might want to try `--fuzzy` option or the following url: https://drive.google.com/uc?id=None\n",
      "  url=\"https://drive.google.com/uc?id={}\".format(file_id)\n",
      "Downloading...\n",
      "From: https://drive.google.com/drive/folders/17LF5gKGX-bgBL9NAa037pum4-i7gpqhm?usp=sharing\n",
      "To: e:\\fri\\nlp\\nlp_project\\dataset\\a\n",
      "860kB [00:00, 9.27MB/s]\n"
     ]
    },
    {
     "data": {
      "text/plain": [
       "'dataset/a'"
      ]
     },
     "execution_count": 12,
     "metadata": {},
     "output_type": "execute_result"
    }
   ],
   "source": [
    "from google_drive_downloader import GoogleDriveDownloader as gdd\n",
    "\n",
    "import gdown\n",
    "url='https://drive.google.com/drive/folders/17LF5gKGX-bgBL9NAa037pum4-i7gpqhm?usp=sharing'\n",
    "output = 'dataset/a'\n",
    "gdown.download(url, output, quiet=False)"
   ]
  }
 ],
 "metadata": {
  "interpreter": {
   "hash": "859506bdd32b4e567d13b76aee61acee8a6244eb70378b8d449d3f498d1b2def"
  },
  "kernelspec": {
   "display_name": "Python 3.9.5 ('base')",
   "language": "python",
   "name": "python3"
  },
  "language_info": {
   "codemirror_mode": {
    "name": "ipython",
    "version": 3
   },
   "file_extension": ".py",
   "mimetype": "text/x-python",
   "name": "python",
   "nbconvert_exporter": "python",
   "pygments_lexer": "ipython3",
   "version": "3.7.11"
  },
  "orig_nbformat": 4
 },
 "nbformat": 4,
 "nbformat_minor": 2
}
